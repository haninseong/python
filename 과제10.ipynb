{
  "nbformat": 4,
  "nbformat_minor": 0,
  "metadata": {
    "colab": {
      "provenance": [],
      "authorship_tag": "ABX9TyNuO9wzgfVpIV0AYA7ELdVl",
      "include_colab_link": true
    },
    "kernelspec": {
      "name": "python3",
      "display_name": "Python 3"
    },
    "language_info": {
      "name": "python"
    }
  },
  "cells": [
    {
      "cell_type": "markdown",
      "metadata": {
        "id": "view-in-github",
        "colab_type": "text"
      },
      "source": [
        "<a href=\"https://colab.research.google.com/github/haninseong/python/blob/main/%EA%B3%BC%EC%A0%9C10.ipynb\" target=\"_parent\"><img src=\"https://colab.research.google.com/assets/colab-badge.svg\" alt=\"Open In Colab\"/></a>"
      ]
    },
    {
      "cell_type": "code",
      "execution_count": 27,
      "metadata": {
        "colab": {
          "base_uri": "https://localhost:8080/"
        },
        "id": "N6F84lnQjZM6",
        "outputId": "83321460-5f02-4406-e8af-6577e3b06031"
      },
      "outputs": [
        {
          "output_type": "stream",
          "name": "stdout",
          "text": [
            "주사위 3개가 모두  5 이다.\n",
            "같은 숫자가 나오기 까지  38 번 던졌다.\n"
          ]
        }
      ],
      "source": [
        "import random\n",
        "count = 0\n",
        "while True :\n",
        "  dice1 = random.randint(1,6)\n",
        "  dice2 = random.randint(1,6)\n",
        "  dice3 = random.randint(1,6)\n",
        "  count = count + 1\n",
        "  if dice1 == dice2 == dice3 :\n",
        "    print(\"주사위 3개가 모두 \", dice1, \"이다.\")\n",
        "    print(\"같은 숫자가 나오기 까지 \", count, \"번 던졌다.\")\n",
        "    break"
      ]
    },
    {
      "cell_type": "code",
      "source": [
        "import random\n",
        "game_count = 1\n",
        "computer_num = 0\n",
        "player = 0\n",
        "while game_count < 10 :\n",
        "  computer_num = random.randint(1,5)\n",
        "  print(\"제\", game_count, \"회 : \", end=\" \")\n",
        "  player = int(input(\"컴퓨터가 생각한 숫자는 ? \"))\n",
        "  game_count = game_count + 1\n",
        "  if computer_num == player :\n",
        "    print(\"맞혔네요. 축하합니다!!\")\n",
        "    print(\"게임을 마칩니다.\")\n",
        "    break\n",
        "  else :\n",
        "    print(\"아까워요.\", computer_num,\"였는데요. 다시 해보세요. ㅠ\")"
      ],
      "metadata": {
        "colab": {
          "base_uri": "https://localhost:8080/"
        },
        "id": "-I3L50DLlD4M",
        "outputId": "765748ac-e112-48e3-c87e-e5aa629ff489"
      },
      "execution_count": 35,
      "outputs": [
        {
          "output_type": "stream",
          "name": "stdout",
          "text": [
            "제 1 회 :  컴퓨터가 생각한 숫자는 ? 3\n",
            "아까워요. 4 였는데요. 다시 해보세요. ㅠ\n",
            "제 2 회 :  컴퓨터가 생각한 숫자는 ? 2\n",
            "아까워요. 5 였는데요. 다시 해보세요. ㅠ\n",
            "제 3 회 :  컴퓨터가 생각한 숫자는 ? 4\n",
            "아까워요. 3 였는데요. 다시 해보세요. ㅠ\n",
            "제 4 회 :  컴퓨터가 생각한 숫자는 ? 5\n",
            "아까워요. 1 였는데요. 다시 해보세요. ㅠ\n",
            "제 5 회 :  컴퓨터가 생각한 숫자는 ? 7\n",
            "아까워요. 4 였는데요. 다시 해보세요. ㅠ\n",
            "제 6 회 :  컴퓨터가 생각한 숫자는 ? 4\n",
            "아까워요. 2 였는데요. 다시 해보세요. ㅠ\n",
            "제 7 회 :  컴퓨터가 생각한 숫자는 ? 1\n",
            "맞혔네요. 축하합니다!!\n",
            "게임을 마칩니다.\n"
          ]
        }
      ]
    },
    {
      "cell_type": "code",
      "source": [
        "import random\n",
        "\n",
        "rnd_num = [1,2,3,4,5,6,7,8,9]\n",
        "\n",
        "r1 = random.choice(rnd_num)\n",
        "rnd_num.remove(r1)\n",
        "print(\"리스트 : \", rnd_num)\n",
        "print(\"랜덤값 : \", r1)"
      ],
      "metadata": {
        "colab": {
          "base_uri": "https://localhost:8080/"
        },
        "id": "tbBM_KFWqADc",
        "outputId": "50dc967d-ebdb-4edc-c96e-d076e5ec1dfa"
      },
      "execution_count": 37,
      "outputs": [
        {
          "output_type": "stream",
          "name": "stdout",
          "text": [
            "리스트 :  [1, 2, 3, 4, 5, 6, 8, 9]\n",
            "랜덤값 :  7\n"
          ]
        }
      ]
    },
    {
      "cell_type": "code",
      "source": [
        "import random\n",
        "game_count = 1\n",
        "secret_number = random.sample(range(1,10),3)# range()\n",
        "print(secret_number)\n",
        "\n",
        "while game_count <= 10 :\n",
        "  strike = 0\n",
        "  ball = 0\n",
        "  player_number = input(\"3자리 숫자를 입력 : \")\n",
        "  player_number = list(player_number)\n",
        "  player_number[0] = int(player_number[0])\n",
        "  player_number[1] = int(player_number[1])\n",
        "  player_number[2] = int(player_number[2])\n",
        "\n",
        "  if (secret_number[0] == player_number[0]):\n",
        "    strike = strike + 1\n",
        "  elif player_number [0] in secret_number:\n",
        "    ball = ball + 1\n",
        "  if (secret_number[1] == player_number[1]):\n",
        "    strike = strike + 1\n",
        "  elif player_number [1] in secret_number:\n",
        "    ball = ball + 1\n",
        "  if (secret_number[2] == player_number[2]):\n",
        "    strike = strike + 1\n",
        "  elif player_number [2] in secret_number:\n",
        "    ball = ball + 1\n",
        "  \n",
        "  print(strike, \"-스트라이크 // \", ball, \"-볼\")\n",
        "  if strike == 3 : \n",
        "    print(\"맞췄습니다. ^0^\")\n",
        "    break\n"
      ],
      "metadata": {
        "colab": {
          "base_uri": "https://localhost:8080/"
        },
        "id": "4w86Wp5asQlH",
        "outputId": "572f3933-daf4-4466-a20e-38c0a5bf6803"
      },
      "execution_count": 58,
      "outputs": [
        {
          "output_type": "stream",
          "name": "stdout",
          "text": [
            "[4, 3, 6]\n",
            "3자리 숫자를 입력 : 654\n",
            "0 -스트라이크 //  2 -볼\n",
            "3자리 숫자를 입력 : 651\n",
            "0 -스트라이크 //  1 -볼\n",
            "3자리 숫자를 입력 : 547\n",
            "0 -스트라이크 //  1 -볼\n",
            "3자리 숫자를 입력 : 648\n",
            "0 -스트라이크 //  2 -볼\n",
            "3자리 숫자를 입력 : 764\n",
            "0 -스트라이크 //  2 -볼\n",
            "3자리 숫자를 입력 : 346\n",
            "1 -스트라이크 //  2 -볼\n",
            "3자리 숫자를 입력 : 643\n",
            "0 -스트라이크 //  3 -볼\n",
            "3자리 숫자를 입력 : 364\n",
            "0 -스트라이크 //  3 -볼\n",
            "3자리 숫자를 입력 : 436\n",
            "3 -스트라이크 //  0 -볼\n",
            "맞췄습니다. ^0^\n"
          ]
        }
      ]
    }
  ]
}