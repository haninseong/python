{
  "nbformat": 4,
  "nbformat_minor": 0,
  "metadata": {
    "colab": {
      "provenance": [],
      "authorship_tag": "ABX9TyNyVb7qK/hmv3CIAzB1GMZT",
      "include_colab_link": true
    },
    "kernelspec": {
      "name": "python3",
      "display_name": "Python 3"
    },
    "language_info": {
      "name": "python"
    }
  },
  "cells": [
    {
      "cell_type": "markdown",
      "metadata": {
        "id": "view-in-github",
        "colab_type": "text"
      },
      "source": [
        "<a href=\"https://colab.research.google.com/github/haninseong/python/blob/main/%EA%B3%BC%EC%A0%9C8.ipynb\" target=\"_parent\"><img src=\"https://colab.research.google.com/assets/colab-badge.svg\" alt=\"Open In Colab\"/></a>"
      ]
    },
    {
      "cell_type": "code",
      "execution_count": 4,
      "metadata": {
        "colab": {
          "base_uri": "https://localhost:8080/"
        },
        "id": "zAxbFFwHDDzP",
        "outputId": "c4d08f1a-08d1-43ba-8ec5-af45dcd62e6d"
      },
      "outputs": [
        {
          "output_type": "stream",
          "name": "stdout",
          "text": [
            "44\n"
          ]
        }
      ],
      "source": [
        "import random\n",
        "\n",
        "rndnumber = random.randint(1,45)\n",
        "\n",
        "print(rndnumber)"
      ]
    },
    {
      "cell_type": "code",
      "source": [
        "import random\n",
        "lottonumber = [0,0,0,0,0,0]\n",
        "\n",
        "for i in range(6):\n",
        "  lottonumber[i] = random.randint(1,45)\n",
        "for i in range(6):\n",
        "  print(lottonumber[i], end = \" \")"
      ],
      "metadata": {
        "colab": {
          "base_uri": "https://localhost:8080/"
        },
        "id": "yXddVvCFD6y-",
        "outputId": "216200f1-3423-46c5-c46d-abc458f8a47c"
      },
      "execution_count": 41,
      "outputs": [
        {
          "output_type": "stream",
          "name": "stdout",
          "text": [
            "12 2 22 11 1 13 "
          ]
        }
      ]
    },
    {
      "cell_type": "code",
      "source": [
        "import random\n",
        "\n",
        "foods = [\"떡볶이\", \"순대\", \"소고기\", \"쿠키\", \"라면\"]\n",
        "\n",
        "result = random.choice(foods)\n",
        "print(result)"
      ],
      "metadata": {
        "colab": {
          "base_uri": "https://localhost:8080/"
        },
        "id": "fQsI7Ta5HZX1",
        "outputId": "d42f9ff5-7583-4e90-a1fe-b5c522676ac6"
      },
      "execution_count": 10,
      "outputs": [
        {
          "output_type": "stream",
          "name": "stdout",
          "text": [
            "쿠키\n"
          ]
        }
      ]
    },
    {
      "cell_type": "code",
      "source": [
        "import random\n",
        "computer = \"\"\n",
        "player = input(\"나의 가위/바위/보 : \")\n",
        "computer = random.choice([\"가위\", \"바위\", \"보\"])\n",
        "if computer == player :\n",
        "  print(\"비겼습니다\")\n",
        "elif (player == \"가위\" and computer == \"보\") or \\\n",
        "(player == \"바위\" and computer == \"가위\") or \\\n",
        "(player == \"보\" and computer == \"바위\") :\n",
        "  print(computer, \"이겼다.\")\n",
        "else :\n",
        "  print(computer, \"졌다.\")"
      ],
      "metadata": {
        "colab": {
          "base_uri": "https://localhost:8080/"
        },
        "id": "d0DlO2NrdCx6",
        "outputId": "5512e2c1-0cd0-43c0-9ee3-e57be57f9806"
      },
      "execution_count": 39,
      "outputs": [
        {
          "output_type": "stream",
          "name": "stdout",
          "text": [
            "나의 가위/바위/보 : 가위\n",
            "바위 졌다.\n"
          ]
        }
      ]
    }
  ]
}