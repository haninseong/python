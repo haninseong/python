{
  "nbformat": 4,
  "nbformat_minor": 0,
  "metadata": {
    "colab": {
      "provenance": [],
      "authorship_tag": "ABX9TyP109YI6YSNz0lvqc2cDstr",
      "include_colab_link": true
    },
    "kernelspec": {
      "name": "python3",
      "display_name": "Python 3"
    },
    "language_info": {
      "name": "python"
    }
  },
  "cells": [
    {
      "cell_type": "markdown",
      "metadata": {
        "id": "view-in-github",
        "colab_type": "text"
      },
      "source": [
        "<a href=\"https://colab.research.google.com/github/haninseong/python/blob/main/%EA%B3%BC%EC%A0%9C1.ipynb\" target=\"_parent\"><img src=\"https://colab.research.google.com/assets/colab-badge.svg\" alt=\"Open In Colab\"/></a>"
      ]
    },
    {
      "cell_type": "code",
      "execution_count": 2,
      "metadata": {
        "colab": {
          "base_uri": "https://localhost:8080/"
        },
        "id": "kg71mk4fVU3A",
        "outputId": "16a5efb2-d7e4-4045-dba3-b75c63cfd736"
      },
      "outputs": [
        {
          "output_type": "stream",
          "name": "stdout",
          "text": [
            "## 택배를 보내기 위한 정보를 입력하세요. ##\n",
            "받는 사람: 김난생\n",
            "주소 : 서울 영등포구 여의도동 88\n",
            "무게 (g) : 721\n",
            "** 받는 사람 ==> 김난생\n",
            "** 주소 ==> 서울 영등포구 여의도동 88\n",
            "** 배송비 ==> 3605 원\n"
          ]
        }
      ],
      "source": [
        "print(\"## 택배를 보내기 위한 정보를 입력하세요. ##\")\n",
        "recieve = input(\"받는 사람: \")\n",
        "address = input(\"주소 : \")\n",
        "weight = int(input(\"무게 (g) : \"))\n",
        "print(\"** 받는 사람 ==>\", recieve)\n",
        "print(\"** 주소 ==>\", address)\n",
        "print(\"** 배송비 ==>\", 5 * weight, \"원\")"
      ]
    }
  ]
}