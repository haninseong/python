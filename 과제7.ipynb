{
  "nbformat": 4,
  "nbformat_minor": 0,
  "metadata": {
    "colab": {
      "provenance": [],
      "authorship_tag": "ABX9TyO3TtVAft/4cgfIJZRYpu++",
      "include_colab_link": true
    },
    "kernelspec": {
      "name": "python3",
      "display_name": "Python 3"
    },
    "language_info": {
      "name": "python"
    }
  },
  "cells": [
    {
      "cell_type": "markdown",
      "metadata": {
        "id": "view-in-github",
        "colab_type": "text"
      },
      "source": [
        "<a href=\"https://colab.research.google.com/github/haninseong/python/blob/main/%EA%B3%BC%EC%A0%9C7.ipynb\" target=\"_parent\"><img src=\"https://colab.research.google.com/assets/colab-badge.svg\" alt=\"Open In Colab\"/></a>"
      ]
    },
    {
      "cell_type": "code",
      "execution_count": 3,
      "metadata": {
        "colab": {
          "base_uri": "https://localhost:8080/"
        },
        "id": "lbrjdzrvXqqA",
        "outputId": "122dfb27-881e-4d55-cbe7-a2e610a53ac8"
      },
      "outputs": [
        {
          "output_type": "stream",
          "name": "stdout",
          "text": [
            "100보다 큽니다.\n",
            "끝\n"
          ]
        }
      ],
      "source": [
        "num = 200\n",
        "if num > 100 :\n",
        "  print(\"100보다 큽니다.\")\n",
        "  print(\"끝\")"
      ]
    },
    {
      "cell_type": "code",
      "source": [
        "num = int(input(\"정수를 입력 : \"))\n",
        "if num%2 == 0 :\n",
        "  print(\"짝수\")\n",
        "  print(\"입니다\")\n",
        "else :\n",
        "  print(\"홀수\")"
      ],
      "metadata": {
        "colab": {
          "base_uri": "https://localhost:8080/"
        },
        "id": "qbwo8mVvYPhr",
        "outputId": "007c45df-a134-4066-ba7a-10d7ee69ac87"
      },
      "execution_count": 2,
      "outputs": [
        {
          "output_type": "stream",
          "name": "stdout",
          "text": [
            "정수를 입력 : 2\n",
            "짝수\n",
            "입니다\n"
          ]
        }
      ]
    },
    {
      "cell_type": "code",
      "source": [
        "num = int(input(\"숫자를 입력 : \"))\n",
        "if num >= 100 :\n",
        "  if num <= 1000 :\n",
        "    print(\"100에서 1000사이다.\")\n",
        "  else :\n",
        "    print(\"1000보다 크다.\")\n",
        "else :\n",
        "  print(\"100보다 작다.\")"
      ],
      "metadata": {
        "colab": {
          "base_uri": "https://localhost:8080/"
        },
        "id": "YHD7pUTVZOvH",
        "outputId": "a86b8817-321a-417b-cf28-7c111a4ef3ab"
      },
      "execution_count": 21,
      "outputs": [
        {
          "output_type": "stream",
          "name": "stdout",
          "text": [
            "숫자를 입력 : 99\n",
            "100보다 작다.\n"
          ]
        }
      ]
    },
    {
      "cell_type": "code",
      "source": [
        "score = int(input(\"점수를 입력 : \"))\n",
        "if score >= 90 :\n",
        "  print(\"A학점입니다\", end='')\n",
        "else :\n",
        "  if score >= 80 :\n",
        "    print(\"B학점입니다\", end='')\n",
        "  else :\n",
        "    if score >= 70 :\n",
        "      print(\"C학점입니다\", end='')\n",
        "    else :\n",
        "      if score >= 60 :\n",
        "        print(\"D학점입니다\", end='')\n",
        "      else :\n",
        "        print(\"F학점입니다\", end='')"
      ],
      "metadata": {
        "colab": {
          "base_uri": "https://localhost:8080/"
        },
        "id": "afFiHjsmcjZu",
        "outputId": "9d29d706-e6f4-4234-8307-2a451ff3ff05"
      },
      "execution_count": 31,
      "outputs": [
        {
          "output_type": "stream",
          "name": "stdout",
          "text": [
            "점수를 입력 : 77\n",
            "C학점입니다"
          ]
        }
      ]
    }
  ]
}