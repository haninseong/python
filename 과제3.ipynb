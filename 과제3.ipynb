{
  "nbformat": 4,
  "nbformat_minor": 0,
  "metadata": {
    "colab": {
      "provenance": [],
      "authorship_tag": "ABX9TyM6j1YqUilDsTGVNwESBTiw",
      "include_colab_link": true
    },
    "kernelspec": {
      "name": "python3",
      "display_name": "Python 3"
    },
    "language_info": {
      "name": "python"
    }
  },
  "cells": [
    {
      "cell_type": "markdown",
      "metadata": {
        "id": "view-in-github",
        "colab_type": "text"
      },
      "source": [
        "<a href=\"https://colab.research.google.com/github/haninseong/python/blob/main/%EA%B3%BC%EC%A0%9C3.ipynb\" target=\"_parent\"><img src=\"https://colab.research.google.com/assets/colab-badge.svg\" alt=\"Open In Colab\"/></a>"
      ]
    },
    {
      "cell_type": "code",
      "execution_count": 5,
      "metadata": {
        "colab": {
          "base_uri": "https://localhost:8080/"
        },
        "id": "CndFExEMUiFC",
        "outputId": "9f1a1106-6a8f-444b-f606-140b0feacd64"
      },
      "outputs": [
        {
          "output_type": "stream",
          "name": "stdout",
          "text": [
            "숫자1 ==>100\n",
            "숫자2 ==>10\n",
            "100 + 10 = 110\n",
            "100 - 10 = 90\n",
            "100 * 10 = 1000\n",
            "100 / 10 = 10.0\n",
            "100 % 10 = 0\n",
            "100 ** 10 = 100000000000000000000\n"
          ]
        }
      ],
      "source": [
        "num1 = int(input(\"숫자1 ==>\"))\n",
        "num2 = int(input(\"숫자2 ==>\"))\n",
        "\n",
        "num3 = num1 + num2\n",
        "num4 = num1 - num2\n",
        "num5 = num1 * num2\n",
        "num6 = num1 / num2\n",
        "num7 = num1 % num2\n",
        "num8 = num1 ** num2\n",
        "\n",
        "print(num1, \"+\", num2, \"=\", num3)\n",
        "print(num1, \"-\", num2, \"=\", num4)\n",
        "print(num1, \"*\", num2, \"=\", num5)\n",
        "print(num1, \"/\", num2, \"=\", num6)\n",
        "print(num1, \"%\", num2, \"=\", num7)\n",
        "print(num1, \"**\", num2, \"=\", num8)"
      ]
    },
    {
      "cell_type": "code",
      "source": [
        "num1 = int(input(\"첫번째 숫자 입력 : \"))\n",
        "num2 = int(input(\"두번째 숫자 입력 : \"))\n",
        "result1 = num1 // num2\n",
        "result2 = num1 % num2\n",
        "result3 = num1 ** num2\n",
        "\n",
        "print(result1, result2, result3)"
      ],
      "metadata": {
        "colab": {
          "base_uri": "https://localhost:8080/"
        },
        "id": "GdAQbFX6Mkea",
        "outputId": "cb5d41cb-aa21-4499-a6b9-6d5fbb2102b9"
      },
      "execution_count": 6,
      "outputs": [
        {
          "output_type": "stream",
          "name": "stdout",
          "text": [
            "첫번째 숫자 입력 : 2\n",
            "두번째 숫자 입력 : 8\n",
            "0 2 256\n"
          ]
        }
      ]
    },
    {
      "cell_type": "code",
      "source": [
        "pound = float(input(\"파운드를 입력하세요 : \"))\n",
        "kg = pound * 0.453592\n",
        "print(f\"{pound:.1f} 파운드는 {kg:.5f} 킬로그램입니다.\")"
      ],
      "metadata": {
        "colab": {
          "base_uri": "https://localhost:8080/"
        },
        "id": "veIL4glwOGGL",
        "outputId": "69a6454a-0d25-4f4c-b5f1-021e835f47e2"
      },
      "execution_count": 9,
      "outputs": [
        {
          "output_type": "stream",
          "name": "stdout",
          "text": [
            "파운드를 입력하세요 : 15\n",
            "15.0 파운드는 6.80388 킬로그램입니다.\n"
          ]
        }
      ]
    }
  ]
}