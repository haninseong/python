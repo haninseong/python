{
  "nbformat": 4,
  "nbformat_minor": 0,
  "metadata": {
    "colab": {
      "provenance": [],
      "authorship_tag": "ABX9TyPUrgKjVZw/b9sN0TPybEis",
      "include_colab_link": true
    },
    "kernelspec": {
      "name": "python3",
      "display_name": "Python 3"
    },
    "language_info": {
      "name": "python"
    }
  },
  "cells": [
    {
      "cell_type": "markdown",
      "metadata": {
        "id": "view-in-github",
        "colab_type": "text"
      },
      "source": [
        "<a href=\"https://colab.research.google.com/github/haninseong/python/blob/main/%EA%B3%BC%EC%A0%9C5.ipynb\" target=\"_parent\"><img src=\"https://colab.research.google.com/assets/colab-badge.svg\" alt=\"Open In Colab\"/></a>"
      ]
    },
    {
      "cell_type": "code",
      "execution_count": 4,
      "metadata": {
        "colab": {
          "base_uri": "https://localhost:8080/"
        },
        "id": "Df9kwzJZWAgb",
        "outputId": "3a02834f-0fe2-48ca-813e-d1bb29ebc7c5"
      },
      "outputs": [
        {
          "output_type": "stream",
          "name": "stdout",
          "text": [
            "정보처리기능사 실기 점수 입력 : 60\n",
            "합격\n",
            "축하합니다\n"
          ]
        }
      ],
      "source": [
        "score = int(input(\"정보처리기능사 실기 점수 입력 : \"))\n",
        "\n",
        "if score >= 60 :\n",
        "  print(\"합격\")\n",
        "  print(\"축하합니다\")\n",
        "else :\n",
        "    print(\"불합격\")"
      ]
    },
    {
      "cell_type": "code",
      "source": [
        "# 한줄 주석문 연습\n",
        "\"\"\"\n",
        "프로그래밍 수업 : 3월 20일\n",
        "프로그래머 : 한인성\n",
        "프로그램 최종 작성일 : 3월 20일\n",
        "프로그램명 : 학점 계산 프로그램\n",
        "\"\"\"\n",
        "print(\"파이썬(3) : B(3.5) \\n\")\n",
        "print(\"모바일(2) : A0(4.0) \\n\")\n",
        "print(\"엑셀(1) : A(4.5)\")\n",
        "py = float(input(\"파이썬 성적을 입력하세요 : \"))\n",
        "mobile = float(input(\"모바일 성적을 입력하세요 : \"))\n",
        "ex = float(input(\"엑셀 성적을 입력하세요 : \"))\n",
        "\n",
        "result = (py * 3) + (mobile * 2) + ex\n",
        "avg = result / 6\n",
        "\n",
        "print(\"평균 학점은 \", round(avg, 2))\n"
      ],
      "metadata": {
        "colab": {
          "base_uri": "https://localhost:8080/"
        },
        "id": "7NNFtY7MYApq",
        "outputId": "4f0913e7-edb0-4aec-c1ad-a85ce2b46498"
      },
      "execution_count": 8,
      "outputs": [
        {
          "output_type": "stream",
          "name": "stdout",
          "text": [
            "파이썬(3) : B(3.5) \n",
            "\n",
            "모바일(2) : A0(4.0) \n",
            "\n",
            "엑셀(1) : A(4.5)\n",
            "파이썬 성적을 입력하세요 : 3.5\n",
            "모바일 성적을 입력하세요 : 4.0\n",
            "엑셀 성적을 입력하세요 : 4.5\n",
            "평균 학점은  3.83\n"
          ]
        }
      ]
    },
    {
      "cell_type": "code",
      "source": [
        "print(\"\\n줄바꿈\\n연습 \")\n",
        "print(\"\\t탭키\\t연습\")\n",
        "print(\"어떤 글자를 \\\"강조\\\"하는 효과1\")\n",
        "print(\"어떤 글자를 \\'강조\\'하는 효과2\")\n",
        "print(\"\\\\\\\\ 백슬래시 2개 출력\")"
      ],
      "metadata": {
        "colab": {
          "base_uri": "https://localhost:8080/"
        },
        "id": "ax2e8vJRbIpx",
        "outputId": "04734e67-259c-4c79-cdfa-5f8ef91a0a99"
      },
      "execution_count": 10,
      "outputs": [
        {
          "output_type": "stream",
          "name": "stdout",
          "text": [
            "\n",
            "줄바꿈\n",
            "연습 \n",
            "\t탭키\t연습\n",
            "어떤 글자를 \"강조\"하는 효과1\n",
            "어떤 글자를 '강조'하는 효과2\n",
            "\\\\ 백슬래시 2개 출력\n"
          ]
        }
      ]
    },
    {
      "cell_type": "code",
      "source": [
        "first = input(\"첫 번째 문자열 : \")\n",
        "second = input(\"두 번째 문자열 : \")\n",
        "\n",
        "result = len(first) - len(second)\n",
        "print(\"두 문자열의 길이 차이는 \", result, \"입니다\")"
      ],
      "metadata": {
        "colab": {
          "base_uri": "https://localhost:8080/"
        },
        "id": "BODA3NdiebA6",
        "outputId": "bdee1670-6bb5-4d31-f6e8-138e33dab44e"
      },
      "execution_count": 11,
      "outputs": [
        {
          "output_type": "stream",
          "name": "stdout",
          "text": [
            "첫 번째 문자열 : 난생처음 파이썬\n",
            "두 번째 문자열 : First Python\n",
            "두 문자열의 길이 차이는  -4 입니다\n"
          ]
        }
      ]
    },
    {
      "cell_type": "code",
      "source": [
        "str1 = \"\"\"\n",
        "안산공업고등학교 컴퓨터과, 안산공업고등한교는\n",
        "기계과, 전기과, 전자과, 화공과, 디자인과, 컴퓨터과로 총 6개의\n",
        "과로 이뤄져있습니다\n",
        "\"\"\"\n",
        "strLen = str1.count(\"안산\")\n",
        "print(strLen)"
      ],
      "metadata": {
        "colab": {
          "base_uri": "https://localhost:8080/"
        },
        "id": "8xP3Dq5ejONy",
        "outputId": "67e2316e-3063-4e08-bd04-db525f64d03d"
      },
      "execution_count": 13,
      "outputs": [
        {
          "output_type": "stream",
          "name": "stdout",
          "text": [
            "2\n"
          ]
        }
      ]
    },
    {
      "cell_type": "code",
      "source": [
        "str = \"\"\"\n",
        "When I find myself in times of trouble, Mother Mary comes to me\n",
        "Speaking words of wisdom, let it be\n",
        "And in my hour of darkness she is standing right in front of me\n",
        "Speaking words of wisdom, let it be\n",
        "Let it be, let it be, let it be, let it be\n",
        "Whisper words of wisdom, let it be\n",
        "And when the broken hearted people living in the world agree\n",
        "There will be an answer, let it be\n",
        "For though they may be parted, there is still a chance that they will see\n",
        "There will be an answer, let it be\n",
        "Let it be, let it be, let it be, let it be\n",
        "There will be an answer, let it be\n",
        "Let it be, let it be, let it be, let it be\n",
        "Whisper words of wisdom, let it be\n",
        "Let it be, let it be, let it be, let it be\n",
        "Whisper words of wisdom, let it be, be\n",
        "And when the night is cloudy there is still a light that shines on me\n",
        "Shinin' until tomorrow, let it be\n",
        "I wake up to the sound of music, Mother Mary comes to me\n",
        "Speaking words of wisdom, let it be\n",
        "And let it be, let it be, let it be, let it be\n",
        "Whisper words of wisdom, let it be\n",
        "And let it be, let it be, let it be, let it be\n",
        "Whisper words of wisdom, let it be\n",
        "\"\"\"\n",
        "\n",
        "var = str.lower()\n",
        "result = var.count(\"let it be\")\n",
        "print(result)"
      ],
      "metadata": {
        "colab": {
          "base_uri": "https://localhost:8080/"
        },
        "id": "gkok-jHAkLES",
        "outputId": "18b1efc1-80ae-46ea-b816-d0d106dd2f7a"
      },
      "execution_count": 18,
      "outputs": [
        {
          "output_type": "stream",
          "name": "stdout",
          "text": [
            "36\n"
          ]
        }
      ]
    }
  ]
}