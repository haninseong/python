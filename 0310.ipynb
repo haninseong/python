{
  "nbformat": 4,
  "nbformat_minor": 0,
  "metadata": {
    "colab": {
      "provenance": [],
      "authorship_tag": "ABX9TyPYwuxVkmDk6l+VDsI5gTqO",
      "include_colab_link": true
    },
    "kernelspec": {
      "name": "python3",
      "display_name": "Python 3"
    },
    "language_info": {
      "name": "python"
    }
  },
  "cells": [
    {
      "cell_type": "markdown",
      "metadata": {
        "id": "view-in-github",
        "colab_type": "text"
      },
      "source": [
        "<a href=\"https://colab.research.google.com/github/haninseong/python/blob/main/0310.ipynb\" target=\"_parent\"><img src=\"https://colab.research.google.com/assets/colab-badge.svg\" alt=\"Open In Colab\"/></a>"
      ]
    },
    {
      "cell_type": "markdown",
      "source": [
        "#제목\n",
        "#타이틀\n",
        "컴퓨터과 3학년 1반  \n",
        "한인성"
      ],
      "metadata": {
        "id": "42uMLCGCF3L0"
      }
    },
    {
      "cell_type": "code",
      "execution_count": 2,
      "metadata": {
        "colab": {
          "base_uri": "https://localhost:8080/"
        },
        "id": "f0yfD_dKFh-H",
        "outputId": "a4d0949e-70fd-44c1-c59c-812e8925d57f"
      },
      "outputs": [
        {
          "output_type": "stream",
          "name": "stdout",
          "text": [
            "오늘은 금요일\n",
            "나혼자 심심해\n"
          ]
        }
      ],
      "source": [
        "print(\"오늘은 금요일\")\n",
        "print(\"나혼자 심심해\")"
      ]
    },
    {
      "cell_type": "code",
      "source": [
        "print(\"친구랑 게임한판?\")"
      ],
      "metadata": {
        "colab": {
          "base_uri": "https://localhost:8080/"
        },
        "id": "cC_Y0_R-GV-z",
        "outputId": "b9dcbec9-6a53-4907-d109-c9ca20b3c1db"
      },
      "execution_count": 3,
      "outputs": [
        {
          "output_type": "stream",
          "name": "stdout",
          "text": [
            "친구랑 게임한판?\n"
          ]
        }
      ]
    }
  ]
}