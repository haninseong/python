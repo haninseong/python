{
  "nbformat": 4,
  "nbformat_minor": 0,
  "metadata": {
    "colab": {
      "provenance": [],
      "authorship_tag": "ABX9TyPj/Dklc/AG69bSgBxceeFE",
      "include_colab_link": true
    },
    "kernelspec": {
      "name": "python3",
      "display_name": "Python 3"
    },
    "language_info": {
      "name": "python"
    }
  },
  "cells": [
    {
      "cell_type": "markdown",
      "metadata": {
        "id": "view-in-github",
        "colab_type": "text"
      },
      "source": [
        "<a href=\"https://colab.research.google.com/github/haninseong/python/blob/main/%EA%B3%BC%EC%A0%9C9.ipynb\" target=\"_parent\"><img src=\"https://colab.research.google.com/assets/colab-badge.svg\" alt=\"Open In Colab\"/></a>"
      ]
    },
    {
      "cell_type": "code",
      "execution_count": 2,
      "metadata": {
        "colab": {
          "base_uri": "https://localhost:8080/"
        },
        "id": "iMN2c7rdbV7y",
        "outputId": "7cca2020-b05d-47f5-8514-3cef56d462a7"
      },
      "outputs": [
        {
          "output_type": "stream",
          "name": "stdout",
          "text": [
            "0 컴퓨터과 3학년 1반\n",
            "1 컴퓨터과 3학년 1반\n",
            "2 컴퓨터과 3학년 1반\n"
          ]
        }
      ],
      "source": [
        "for i in range(0,3,1):\n",
        "  print(i, \"컴퓨터과 3학년 1반\")"
      ]
    },
    {
      "cell_type": "code",
      "source": [
        "for i in [0,1,2,3,4]:\n",
        "  print(i, \"컴퓨터과 3학년 1반\")"
      ],
      "metadata": {
        "colab": {
          "base_uri": "https://localhost:8080/"
        },
        "id": "zocRQeJxdnWJ",
        "outputId": "5731cc05-b6ee-49bf-8f6a-6764ed2c9e32"
      },
      "execution_count": 3,
      "outputs": [
        {
          "output_type": "stream",
          "name": "stdout",
          "text": [
            "0 컴퓨터과 3학년 1반\n",
            "1 컴퓨터과 3학년 1반\n",
            "2 컴퓨터과 3학년 1반\n",
            "3 컴퓨터과 3학년 1반\n",
            "4 컴퓨터과 3학년 1반\n"
          ]
        }
      ]
    },
    {
      "cell_type": "code",
      "source": [
        "for i in [\"봄\", \"여름\", \"가을\", \"겨울\"]:\n",
        "  print(i, \"컴퓨터과 3학년 1반\")"
      ],
      "metadata": {
        "colab": {
          "base_uri": "https://localhost:8080/"
        },
        "id": "nhQB1tLGd-vv",
        "outputId": "40af44fc-eaf5-4844-b31f-880bc4cbfce2"
      },
      "execution_count": 5,
      "outputs": [
        {
          "output_type": "stream",
          "name": "stdout",
          "text": [
            "봄 컴퓨터과 3학년 1반\n",
            "여름 컴퓨터과 3학년 1반\n",
            "가을 컴퓨터과 3학년 1반\n",
            "겨울 컴퓨터과 3학년 1반\n"
          ]
        }
      ]
    },
    {
      "cell_type": "code",
      "source": [
        "for i in range(1,11,1):\n",
        "  print(i, \"컴퓨터과\")"
      ],
      "metadata": {
        "colab": {
          "base_uri": "https://localhost:8080/"
        },
        "id": "JTCHsetAeTyf",
        "outputId": "d19b5609-a2b8-45f9-ba04-b61b6e945336"
      },
      "execution_count": 7,
      "outputs": [
        {
          "output_type": "stream",
          "name": "stdout",
          "text": [
            "1 컴퓨터과\n",
            "2 컴퓨터과\n",
            "3 컴퓨터과\n",
            "4 컴퓨터과\n",
            "5 컴퓨터과\n",
            "6 컴퓨터과\n",
            "7 컴퓨터과\n",
            "8 컴퓨터과\n",
            "9 컴퓨터과\n",
            "10 컴퓨터과\n"
          ]
        }
      ]
    },
    {
      "cell_type": "code",
      "source": [
        "for i in range(2,6,1):\n",
        "  print(i, end=\" \")"
      ],
      "metadata": {
        "colab": {
          "base_uri": "https://localhost:8080/"
        },
        "id": "TlRKbAEhfBif",
        "outputId": "8af4c501-fcae-43d6-f7d0-30d647f5ae95"
      },
      "execution_count": 8,
      "outputs": [
        {
          "output_type": "stream",
          "name": "stdout",
          "text": [
            "2 3 4 5 "
          ]
        }
      ]
    },
    {
      "cell_type": "code",
      "source": [
        "result = 1\n",
        "\n",
        "for i in range(1,6,1):\n",
        "  result = result * i\n",
        "  print(\"A B C D E 학생들을 순서대로 세우는 경우의 수\", result)"
      ],
      "metadata": {
        "colab": {
          "base_uri": "https://localhost:8080/"
        },
        "id": "E0ukpY36f2sI",
        "outputId": "004d31df-16a2-4c0e-84ae-efeb3f913adc"
      },
      "execution_count": 34,
      "outputs": [
        {
          "output_type": "stream",
          "name": "stdout",
          "text": [
            "A B C D E 학생들을 순서대로 세우는 경우의 수 1\n",
            "A B C D E 학생들을 순서대로 세우는 경우의 수 2\n",
            "A B C D E 학생들을 순서대로 세우는 경우의 수 6\n",
            "A B C D E 학생들을 순서대로 세우는 경우의 수 24\n",
            "A B C D E 학생들을 순서대로 세우는 경우의 수 120\n"
          ]
        }
      ]
    },
    {
      "cell_type": "code",
      "source": [
        "sum = 0\n",
        "for i in range(1,11,1):\n",
        "  sum = sum + i\n",
        "print(sum)"
      ],
      "metadata": {
        "colab": {
          "base_uri": "https://localhost:8080/"
        },
        "id": "__gfshlDiTIK",
        "outputId": "fd9dbe5b-1ec7-4a45-a560-dd6d29524e9d"
      },
      "execution_count": 27,
      "outputs": [
        {
          "output_type": "stream",
          "name": "stdout",
          "text": [
            "55\n"
          ]
        }
      ]
    },
    {
      "cell_type": "code",
      "source": [
        "odd_sum = 0\n",
        "for i in range(1001,2001,2):\n",
        "  odd_sum = odd_sum + i\n",
        "print(odd_sum)"
      ],
      "metadata": {
        "colab": {
          "base_uri": "https://localhost:8080/"
        },
        "id": "v8qxHv6Bi2wi",
        "outputId": "44128be9-aaa3-492a-a4f9-f308d3edbbf3"
      },
      "execution_count": 24,
      "outputs": [
        {
          "output_type": "stream",
          "name": "stdout",
          "text": [
            "750000\n"
          ]
        }
      ]
    },
    {
      "cell_type": "code",
      "source": [
        "odd_sum = 0\n",
        "for i in range(1000,2001,1):\n",
        "  if i%2 == 1:\n",
        "    odd_sum = odd_sum + i\n",
        "print(odd_sum)"
      ],
      "metadata": {
        "colab": {
          "base_uri": "https://localhost:8080/"
        },
        "id": "VVF8GgbEjMyh",
        "outputId": "f38b00d1-c0fd-43eb-f5e8-c252fd80de6c"
      },
      "execution_count": 25,
      "outputs": [
        {
          "output_type": "stream",
          "name": "stdout",
          "text": [
            "750000\n"
          ]
        }
      ]
    },
    {
      "cell_type": "code",
      "source": [
        "i, hap = 0, 0\n",
        "for i in range(500,1001,2):\n",
        "  hap += i\n",
        "print(\"500에서 1000까지의 짝수의 합 : \", hap)"
      ],
      "metadata": {
        "colab": {
          "base_uri": "https://localhost:8080/"
        },
        "id": "r1BIRL3Ej3mk",
        "outputId": "922ad269-0b01-4381-e7a8-43bb6e13625f"
      },
      "execution_count": 30,
      "outputs": [
        {
          "output_type": "stream",
          "name": "stdout",
          "text": [
            "500에서 1000까지의 짝수의 합 :  188250\n"
          ]
        }
      ]
    },
    {
      "cell_type": "code",
      "source": [
        "for i in range(3):\n",
        "  for k in range(2):\n",
        "    print(\"난생처음은 쉽습니다. ^^(i값:\", i,\", k값:\", k,\")\")"
      ],
      "metadata": {
        "colab": {
          "base_uri": "https://localhost:8080/"
        },
        "id": "Ng0Vx79kkn_Z",
        "outputId": "e235a7e9-13d7-4321-97b9-71e62e313bc5"
      },
      "execution_count": 31,
      "outputs": [
        {
          "output_type": "stream",
          "name": "stdout",
          "text": [
            "난생처음은 쉽습니다. ^^(i값: 0 , k값: 0 )\n",
            "난생처음은 쉽습니다. ^^(i값: 0 , k값: 1 )\n",
            "난생처음은 쉽습니다. ^^(i값: 1 , k값: 0 )\n",
            "난생처음은 쉽습니다. ^^(i값: 1 , k값: 1 )\n",
            "난생처음은 쉽습니다. ^^(i값: 2 , k값: 0 )\n",
            "난생처음은 쉽습니다. ^^(i값: 2 , k값: 1 )\n"
          ]
        }
      ]
    },
    {
      "cell_type": "code",
      "source": [
        "for i in range(1,10,1):\n",
        "  for k in range(2,10,1):\n",
        "    print(k, \"x\", i, \"=\", i * k, end = \"    \")\n",
        "  print(\"\\n\")"
      ],
      "metadata": {
        "colab": {
          "base_uri": "https://localhost:8080/"
        },
        "id": "XKqHrs8Aqab4",
        "outputId": "2b7ca22e-aaee-4dff-db05-a74470d67f27"
      },
      "execution_count": 55,
      "outputs": [
        {
          "output_type": "stream",
          "name": "stdout",
          "text": [
            "2 x 1 = 2    3 x 1 = 3    4 x 1 = 4    5 x 1 = 5    6 x 1 = 6    7 x 1 = 7    8 x 1 = 8    9 x 1 = 9    \n",
            "\n",
            "2 x 2 = 4    3 x 2 = 6    4 x 2 = 8    5 x 2 = 10    6 x 2 = 12    7 x 2 = 14    8 x 2 = 16    9 x 2 = 18    \n",
            "\n",
            "2 x 3 = 6    3 x 3 = 9    4 x 3 = 12    5 x 3 = 15    6 x 3 = 18    7 x 3 = 21    8 x 3 = 24    9 x 3 = 27    \n",
            "\n",
            "2 x 4 = 8    3 x 4 = 12    4 x 4 = 16    5 x 4 = 20    6 x 4 = 24    7 x 4 = 28    8 x 4 = 32    9 x 4 = 36    \n",
            "\n",
            "2 x 5 = 10    3 x 5 = 15    4 x 5 = 20    5 x 5 = 25    6 x 5 = 30    7 x 5 = 35    8 x 5 = 40    9 x 5 = 45    \n",
            "\n",
            "2 x 6 = 12    3 x 6 = 18    4 x 6 = 24    5 x 6 = 30    6 x 6 = 36    7 x 6 = 42    8 x 6 = 48    9 x 6 = 54    \n",
            "\n",
            "2 x 7 = 14    3 x 7 = 21    4 x 7 = 28    5 x 7 = 35    6 x 7 = 42    7 x 7 = 49    8 x 7 = 56    9 x 7 = 63    \n",
            "\n",
            "2 x 8 = 16    3 x 8 = 24    4 x 8 = 32    5 x 8 = 40    6 x 8 = 48    7 x 8 = 56    8 x 8 = 64    9 x 8 = 72    \n",
            "\n",
            "2 x 9 = 18    3 x 9 = 27    4 x 9 = 36    5 x 9 = 45    6 x 9 = 54    7 x 9 = 63    8 x 9 = 72    9 x 9 = 81    \n",
            "\n"
          ]
        }
      ]
    },
    {
      "cell_type": "code",
      "source": [
        "i = 0\n",
        "while(i<3):\n",
        "  print(\"컴퓨터과 3학년 1반\")\n",
        "  i = i + 1"
      ],
      "metadata": {
        "colab": {
          "base_uri": "https://localhost:8080/"
        },
        "id": "6Gx3nJGatvci",
        "outputId": "30fed384-9fbe-4928-841b-209c4fd1fd18"
      },
      "execution_count": 56,
      "outputs": [
        {
          "output_type": "stream",
          "name": "stdout",
          "text": [
            "컴퓨터과 3학년 1반\n",
            "컴퓨터과 3학년 1반\n",
            "컴퓨터과 3학년 1반\n"
          ]
        }
      ]
    },
    {
      "cell_type": "code",
      "source": [
        "i = 0\n",
        "while True :\n",
        "  print(\"ㅎ\", end = \" \")\n",
        "  i = i + 1\n",
        "  if i ==10:\n",
        "    break"
      ],
      "metadata": {
        "colab": {
          "base_uri": "https://localhost:8080/"
        },
        "id": "UkI7-juyurLh",
        "outputId": "ecff3fb6-325b-4b04-efc7-1ac63cb09042"
      },
      "execution_count": 58,
      "outputs": [
        {
          "output_type": "stream",
          "name": "stdout",
          "text": [
            "ㅎ ㅎ ㅎ ㅎ ㅎ ㅎ ㅎ ㅎ ㅎ ㅎ "
          ]
        }
      ]
    },
    {
      "cell_type": "code",
      "source": [
        "def menu():\n",
        "  print(\"#####################\")\n",
        "  print(\"# 1, 덧셈          #\")\n",
        "  print(\"# 2, 뺄셈          #\")\n",
        "  print(\"# 3, 곱셈          #\")\n",
        "  print(\"# 4, 나눗셈         #\")\n",
        "  print(\"# 5, 종료          #\")\n",
        "\n",
        "def add():\n",
        "  num1 = float(input(\"첫번째 숫자를 입력 : \"))\n",
        "  num2 = float(input(\"두번째 숫자를 입력 : \"))\n",
        "  sum = num1 + num2\n",
        "  return sum\n",
        "\n",
        "def add():\n",
        "  num1 = float(input(\"첫번째 숫자를 입력 : \"))\n",
        "  num2 = float(input(\"두번째 숫자를 입력 : \"))\n",
        "  sum = num1 + num2\n",
        "  return sum\n",
        "\n",
        "  def add():\n",
        "  num1 = float(input(\"첫번째 숫자를 입력 : \"))\n",
        "  num2 = float(input(\"두번째 숫자를 입력 : \"))\n",
        "  sum = num1 + num2\n",
        "  return sum\n",
        "\n",
        "  def add():\n",
        "  num1 = float(input(\"첫번째 숫자를 입력 : \"))\n",
        "  num2 = float(input(\"두번째 숫자를 입력 : \"))\n",
        "  sum = num1 + num2\n",
        "  return sum\n",
        "while True:\n",
        "  menu()\n",
        "  select = int(input(\"메뉴를 선택 : \"))\n",
        "  if select == 5:\n",
        "    break\n",
        "  elif select == 1:\n",
        "  sum = add()\n",
        "  print(\"두 수의 덧셈결과 : \", sum)\n",
        "  elif select == 2:\n",
        "  sum = sub()\n",
        "  print(\"두 수의 뺄셈결과 : \", sum)\n",
        "  elif select == 3:\n",
        "  sum = div()\n",
        "  print(\"두 수의 곱셈결과 : \", sum)\n",
        "  elif select == 4:\n",
        "  sum = mul()\n",
        "  print(\"두 수의 나눗셈셈결과 : \", sum)"
      ],
      "metadata": {
        "colab": {
          "base_uri": "https://localhost:8080/",
          "height": 137
        },
        "id": "f3tzbpYPviCk",
        "outputId": "abc819f8-d272-4a01-9267-bf59f144410b"
      },
      "execution_count": 75,
      "outputs": [
        {
          "output_type": "error",
          "ename": "IndentationError",
          "evalue": "ignored",
          "traceback": [
            "\u001b[0;36m  File \u001b[0;32m\"<ipython-input-75-63ea7c0f1b1c>\"\u001b[0;36m, line \u001b[0;32m21\u001b[0m\n\u001b[0;31m    sum = add()\u001b[0m\n\u001b[0m    ^\u001b[0m\n\u001b[0;31mIndentationError\u001b[0m\u001b[0;31m:\u001b[0m expected an indented block\n"
          ]
        }
      ]
    }
  ]
}