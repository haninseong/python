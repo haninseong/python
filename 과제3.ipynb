{
  "nbformat": 4,
  "nbformat_minor": 0,
  "metadata": {
    "colab": {
      "provenance": [],
      "authorship_tag": "ABX9TyMsB8kDUk+INDfX/Egl5W5F",
      "include_colab_link": true
    },
    "kernelspec": {
      "name": "python3",
      "display_name": "Python 3"
    },
    "language_info": {
      "name": "python"
    }
  },
  "cells": [
    {
      "cell_type": "markdown",
      "metadata": {
        "id": "view-in-github",
        "colab_type": "text"
      },
      "source": [
        "<a href=\"https://colab.research.google.com/github/haninseong/python/blob/main/%EA%B3%BC%EC%A0%9C3.ipynb\" target=\"_parent\"><img src=\"https://colab.research.google.com/assets/colab-badge.svg\" alt=\"Open In Colab\"/></a>"
      ]
    },
    {
      "cell_type": "code",
      "execution_count": 1,
      "metadata": {
        "colab": {
          "base_uri": "https://localhost:8080/"
        },
        "id": "RePwxOzdOcqK",
        "outputId": "b37cd1ef-c005-4e51-9789-497ef079b886"
      },
      "outputs": [
        {
          "output_type": "stream",
          "name": "stdout",
          "text": [
            "파운드를 입력하세요 : 15\n",
            "15.0 파운드는 6.80388 킬로그램입니다.\n"
          ]
        }
      ],
      "source": [
        "pound = float(input(\"파운드를 입력하세요 : \"))\n",
        "kg = pound * 0.453592\n",
        "print(f\"{pound:.1f} 파운드는 {kg:.5f} 킬로그램입니다.\")\n"
      ]
    }
  ]
}