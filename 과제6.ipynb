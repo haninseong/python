{
  "nbformat": 4,
  "nbformat_minor": 0,
  "metadata": {
    "colab": {
      "provenance": [],
      "authorship_tag": "ABX9TyNeZDsPHa1Ky703Ak3kJ4qt",
      "include_colab_link": true
    },
    "kernelspec": {
      "name": "python3",
      "display_name": "Python 3"
    },
    "language_info": {
      "name": "python"
    }
  },
  "cells": [
    {
      "cell_type": "markdown",
      "metadata": {
        "id": "view-in-github",
        "colab_type": "text"
      },
      "source": [
        "<a href=\"https://colab.research.google.com/github/haninseong/python/blob/main/%EA%B3%BC%EC%A0%9C6.ipynb\" target=\"_parent\"><img src=\"https://colab.research.google.com/assets/colab-badge.svg\" alt=\"Open In Colab\"/></a>"
      ]
    },
    {
      "cell_type": "code",
      "execution_count": 11,
      "metadata": {
        "colab": {
          "base_uri": "https://localhost:8080/"
        },
        "id": "4qt62bc42ic_",
        "outputId": "dd150cbe-1501-463b-d28b-a6df063bbeee"
      },
      "outputs": [
        {
          "output_type": "stream",
          "name": "stdout",
          "text": [
            "원본 문자열 :  트 와 이 스\n",
            "반대 문자열 :  스이와트\n"
          ]
        }
      ],
      "source": [
        "singer = [\"트\", \"와\", \"이\", \"스\"]\n",
        "reverse_singer = singer[3] + singer[2] + singer[1] + singer[0]\n",
        "print(\"원본 문자열 : \", singer[0], singer[1], singer[2], singer[3])\n",
        "print(\"반대 문자열 : \", reverse_singer)"
      ]
    },
    {
      "cell_type": "code",
      "source": [
        "singer = \"트와이스\"\n",
        "\n",
        "print(\"원본 문자열 : \", singer)\n",
        "print(\"반대 문자열 : \", singer[::-1])"
      ],
      "metadata": {
        "colab": {
          "base_uri": "https://localhost:8080/"
        },
        "id": "BiUBRCME8xAZ",
        "outputId": "a73f3b38-ba8e-4a18-b24f-d671490f12c8"
      },
      "execution_count": 15,
      "outputs": [
        {
          "output_type": "stream",
          "name": "stdout",
          "text": [
            "원본 문자열 :  트와이스\n",
            "반대 문자열 :  스이와트\n"
          ]
        }
      ]
    },
    {
      "cell_type": "code",
      "source": [
        "a = \"Python\"\n",
        "\n",
        "result = a[0].lower() + a[1:6].upper()\n",
        "print(result)"
      ],
      "metadata": {
        "colab": {
          "base_uri": "https://localhost:8080/"
        },
        "id": "p1Ohha8VQ73e",
        "outputId": "f3ed1903-8fe2-44c0-887c-a1930ee74363"
      },
      "execution_count": 20,
      "outputs": [
        {
          "output_type": "stream",
          "name": "stdout",
          "text": [
            "pYTHON\n"
          ]
        }
      ]
    }
  ]
}