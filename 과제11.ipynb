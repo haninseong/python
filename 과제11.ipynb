{
  "nbformat": 4,
  "nbformat_minor": 0,
  "metadata": {
    "colab": {
      "provenance": [],
      "authorship_tag": "ABX9TyO+cqRZQMgfTT9U1JyJkltz",
      "include_colab_link": true
    },
    "kernelspec": {
      "name": "python3",
      "display_name": "Python 3"
    },
    "language_info": {
      "name": "python"
    }
  },
  "cells": [
    {
      "cell_type": "markdown",
      "metadata": {
        "id": "view-in-github",
        "colab_type": "text"
      },
      "source": [
        "<a href=\"https://colab.research.google.com/github/haninseong/python/blob/main/%EA%B3%BC%EC%A0%9C11.ipynb\" target=\"_parent\"><img src=\"https://colab.research.google.com/assets/colab-badge.svg\" alt=\"Open In Colab\"/></a>"
      ]
    },
    {
      "cell_type": "code",
      "execution_count": 2,
      "metadata": {
        "id": "8UCZuCLQnSqm",
        "colab": {
          "base_uri": "https://localhost:8080/"
        },
        "outputId": "56277f78-739d-423a-b7b9-ba504be42af6"
      },
      "outputs": [
        {
          "output_type": "stream",
          "name": "stdout",
          "text": [
            "숫자 : 10\n",
            "숫자 : 20\n",
            "숫자 : 30\n",
            "숫자 : 40\n",
            "숫자 : 50\n",
            "리스트의 합계 :  150\n"
          ]
        }
      ],
      "source": [
        "numList = [0,0,0,0,0,]\n",
        "\n",
        "numList[0] = input(\"숫자 : \")\n",
        "numList[1] = input(\"숫자 : \")\n",
        "numList[2] = input(\"숫자 : \")\n",
        "numList[3] = input(\"숫자 : \")\n",
        "numList[4] = input(\"숫자 : \")\n",
        "\n",
        "sum = int(numList[0]) + int(numList[1]) + int(numList[2]) + int(numList[3]) + int(numList[4])\n",
        "print(\"리스트의 합계 : \", sum)"
      ]
    },
    {
      "cell_type": "code",
      "source": [
        "myList = []\n",
        "\n",
        "myList.append(\"안산\")\n",
        "myList.append(\"공고\")\n",
        "myList.append(3100)\n",
        "myList.append(777)\n",
        "\n",
        "print(myList)"
      ],
      "metadata": {
        "colab": {
          "base_uri": "https://localhost:8080/"
        },
        "id": "L5TTUaKism8O",
        "outputId": "6d0e5e0d-f00f-4dcf-f90f-3cb32ecc9f52"
      },
      "execution_count": 4,
      "outputs": [
        {
          "output_type": "stream",
          "name": "stdout",
          "text": [
            "['안산', '공고', 3100, 777]\n"
          ]
        }
      ]
    },
    {
      "cell_type": "code",
      "source": [
        "import random\n",
        "wiseSay = [\"중요한 것은 꺾이지 않는 마음이다\",\n",
        "           \"너 자신을 알라\",\n",
        "           \"피할 수 없으면 즐겨라\",\n",
        "           \"신은 용기있는 자를 결코 버리지 않는다.\",\n",
        "           \"내일은 내일의 태양이 뜬다.\",\n",
        "           \"이 또한 지나가리라.\"]\n",
        "rnd_say = random.sample(wiseSay, 1)\n",
        "print(\"오늘의 명언 ==>\", rnd_say)"
      ],
      "metadata": {
        "colab": {
          "base_uri": "https://localhost:8080/"
        },
        "id": "OnI2WOCstnxg",
        "outputId": "2b14fbc6-6b71-4d4d-f4f1-64d4dae1aa1f"
      },
      "execution_count": 14,
      "outputs": [
        {
          "output_type": "stream",
          "name": "stdout",
          "text": [
            "오늘의 명언 ==> ['이 또한 지나가리라.']\n"
          ]
        }
      ]
    },
    {
      "cell_type": "code",
      "source": [
        "import random\n",
        "wiseSay = [\"중요한 것은 꺾이지 않는 마음이다\",\n",
        "           \"너 자신을 알라\",\n",
        "           \"피할 수 없으면 즐겨라\",\n",
        "           \"신은 용기있는 자를 결코 버리지 않는다.\",\n",
        "           \"내일은 내일의 태양이 뜬다.\",\n",
        "           \"이 또한 지나가리라.\",\n",
        "           \"명언이 하나 더 늘었다\"]\n",
        "rnd = random.randint(0,len(wiseSay)-1)\n",
        "rnd_say = wiseSay[rnd]\n",
        "print(\"오늘의 명언 ==>\", rnd_say)"
      ],
      "metadata": {
        "colab": {
          "base_uri": "https://localhost:8080/"
        },
        "id": "iLIciGVfxZ6Z",
        "outputId": "278ccb77-2f45-4b94-fd95-c3415983868a"
      },
      "execution_count": 31,
      "outputs": [
        {
          "output_type": "stream",
          "name": "stdout",
          "text": [
            "오늘의 명언 ==> 명언이 하나 더 늘었다\n"
          ]
        }
      ]
    },
    {
      "cell_type": "code",
      "source": [
        "import  datetime\n",
        "\n",
        "now = datetime.date.today()\n",
        "d_day = datetime.date(2023,11,16)\n",
        "d_day = d_day - now\n",
        "print(d_day.days)"
      ],
      "metadata": {
        "colab": {
          "base_uri": "https://localhost:8080/"
        },
        "id": "pxNPuYCyzh79",
        "outputId": "5f92be14-d0ed-4be7-8697-d6a49c66e999"
      },
      "execution_count": 39,
      "outputs": [
        {
          "output_type": "stream",
          "name": "stdout",
          "text": [
            "220\n"
          ]
        }
      ]
    }
  ]
}